{
 "cells": [
  {
   "cell_type": "markdown",
   "id": "07bee5f5",
   "metadata": {},
   "source": [
    "## HDFC Flexi Cap Fund - Growth Option - Direct Plan (Day Training)"
   ]
  },
  {
   "cell_type": "code",
   "execution_count": 1,
   "id": "c5bf39d3",
   "metadata": {},
   "outputs": [],
   "source": [
    "import numpy as np\n",
    "import pandas as pd\n",
    "import matplotlib.pyplot as plt\n",
    "import seaborn as sns"
   ]
  },
  {
   "cell_type": "code",
   "execution_count": 2,
   "id": "2cfb23b2",
   "metadata": {},
   "outputs": [
    {
     "data": {
      "text/html": [
       "<div>\n",
       "<style scoped>\n",
       "    .dataframe tbody tr th:only-of-type {\n",
       "        vertical-align: middle;\n",
       "    }\n",
       "\n",
       "    .dataframe tbody tr th {\n",
       "        vertical-align: top;\n",
       "    }\n",
       "\n",
       "    .dataframe thead th {\n",
       "        text-align: right;\n",
       "    }\n",
       "</style>\n",
       "<table border=\"1\" class=\"dataframe\">\n",
       "  <thead>\n",
       "    <tr style=\"text-align: right;\">\n",
       "      <th></th>\n",
       "      <th>Net Asset Value</th>\n",
       "      <th>Units</th>\n",
       "    </tr>\n",
       "    <tr>\n",
       "      <th>NAV date</th>\n",
       "      <th></th>\n",
       "      <th></th>\n",
       "    </tr>\n",
       "  </thead>\n",
       "  <tbody>\n",
       "    <tr>\n",
       "      <th>2013-01-01</th>\n",
       "      <td>296.876</td>\n",
       "      <td>3.368410</td>\n",
       "    </tr>\n",
       "    <tr>\n",
       "      <th>2013-01-02</th>\n",
       "      <td>299.604</td>\n",
       "      <td>3.337739</td>\n",
       "    </tr>\n",
       "    <tr>\n",
       "      <th>2013-01-03</th>\n",
       "      <td>300.196</td>\n",
       "      <td>3.331157</td>\n",
       "    </tr>\n",
       "    <tr>\n",
       "      <th>2013-01-04</th>\n",
       "      <td>300.762</td>\n",
       "      <td>3.324888</td>\n",
       "    </tr>\n",
       "    <tr>\n",
       "      <th>2013-01-07</th>\n",
       "      <td>299.986</td>\n",
       "      <td>3.333489</td>\n",
       "    </tr>\n",
       "    <tr>\n",
       "      <th>...</th>\n",
       "      <td>...</td>\n",
       "      <td>...</td>\n",
       "    </tr>\n",
       "    <tr>\n",
       "      <th>2018-07-25</th>\n",
       "      <td>637.204</td>\n",
       "      <td>1.569356</td>\n",
       "    </tr>\n",
       "    <tr>\n",
       "      <th>2018-07-26</th>\n",
       "      <td>645.988</td>\n",
       "      <td>1.548016</td>\n",
       "    </tr>\n",
       "    <tr>\n",
       "      <th>2018-07-27</th>\n",
       "      <td>653.557</td>\n",
       "      <td>1.530088</td>\n",
       "    </tr>\n",
       "    <tr>\n",
       "      <th>2018-07-30</th>\n",
       "      <td>662.102</td>\n",
       "      <td>1.510341</td>\n",
       "    </tr>\n",
       "    <tr>\n",
       "      <th>2018-07-31</th>\n",
       "      <td>661.956</td>\n",
       "      <td>1.510674</td>\n",
       "    </tr>\n",
       "  </tbody>\n",
       "</table>\n",
       "<p>1375 rows × 2 columns</p>\n",
       "</div>"
      ],
      "text/plain": [
       "            Net Asset Value     Units\n",
       "NAV date                             \n",
       "2013-01-01          296.876  3.368410\n",
       "2013-01-02          299.604  3.337739\n",
       "2013-01-03          300.196  3.331157\n",
       "2013-01-04          300.762  3.324888\n",
       "2013-01-07          299.986  3.333489\n",
       "...                     ...       ...\n",
       "2018-07-25          637.204  1.569356\n",
       "2018-07-26          645.988  1.548016\n",
       "2018-07-27          653.557  1.530088\n",
       "2018-07-30          662.102  1.510341\n",
       "2018-07-31          661.956  1.510674\n",
       "\n",
       "[1375 rows x 2 columns]"
      ]
     },
     "execution_count": 2,
     "metadata": {},
     "output_type": "execute_result"
    }
   ],
   "source": [
    "df = pd.read_excel(\"HDFC Flexi Cap Fund - Growth Option - Direct Plan (Day Training).xlsx\")\n",
    "\n",
    "df = df.set_index(\"NAV date\")\n",
    "\n",
    "df[\"Units\"] = 1000/df['Net Asset Value']\n",
    "\n",
    "df"
   ]
  },
  {
   "cell_type": "code",
   "execution_count": 3,
   "id": "c01a037d",
   "metadata": {},
   "outputs": [
    {
     "name": "stdout",
     "output_type": "stream",
     "text": [
      "Number of Months: 67\n"
     ]
    }
   ],
   "source": [
    "# Create a series of dates from start date to end date\n",
    "dates = pd.date_range(start='2013-01-01', end='2018-07-31', freq='D')\n",
    "\n",
    "# Convert the dates to monthly periods\n",
    "months = dates.to_period('M')\n",
    "\n",
    "# Count the number of unique months in the series\n",
    "number_of_months = months.nunique()\n",
    "\n",
    "# Print the number of months\n",
    "print(\"Number of Months:\", number_of_months)"
   ]
  },
  {
   "cell_type": "code",
   "execution_count": 4,
   "id": "67a7039f",
   "metadata": {},
   "outputs": [
    {
     "name": "stdout",
     "output_type": "stream",
     "text": [
      "Total Units till Date: 3223.3090330649093\n",
      "Invested amount: 1375000\n",
      "Total amount in your account as of today: 2133688.7542915153\n",
      "Profit Earned on Investment: 758688.7542915153\n",
      "Profit Percentage: 55.17736394847385\n",
      "Profit Percentage per month: 9.882512945995316\n"
     ]
    }
   ],
   "source": [
    "total_units = df['Units'].sum()\n",
    "print(\"Total Units till Date:\",total_units)\n",
    "\n",
    "Invested = len(df)*1000\n",
    "print(\"Invested amount:\",Invested)\n",
    "\n",
    "total_amount = total_units*df.iloc[-1,0]\n",
    "print(\"Total amount in your account as of today:\",total_amount)\n",
    "\n",
    "profit = total_amount-Invested\n",
    "print(\"Profit Earned on Investment:\",profit)\n",
    "\n",
    "profit_percentage = (profit/Invested)*100\n",
    "print(\"Profit Percentage:\",profit_percentage)\n",
    "\n",
    "profit_percentage_per_month = (profit_percentage/67)*12\n",
    "print(\"Profit Percentage per month:\",profit_percentage_per_month)"
   ]
  },
  {
   "cell_type": "markdown",
   "id": "68f201ef",
   "metadata": {},
   "source": [
    "# Visualize the Time Series\n",
    "### Check for trend, seasonality or random patterns"
   ]
  },
  {
   "cell_type": "code",
   "execution_count": 5,
   "id": "52d5bb53",
   "metadata": {},
   "outputs": [
    {
     "data": {
      "image/png": "[encoded data removed]",
      "text/plain": [
       "<Figure size 640x480 with 1 Axes>"
      ]
     },
     "metadata": {},
     "output_type": "display_data"
    }
   ],
   "source": [
    "sns.lineplot(x=df.index,y=df[\"Net Asset Value\"])\n",
    "plt.show()"
   ]
  },
  {
   "cell_type": "code",
   "execution_count": null,
   "id": "395960a7",
   "metadata": {},
   "outputs": [],
   "source": []
  },
  {
   "cell_type": "markdown",
   "id": "d5d14eb8",
   "metadata": {},
   "source": [
    "## HDFC Flexi Cap Fund - Growth Option - Direct Plan (Day Testing)"
   ]
  },
  {
   "cell_type": "code",
   "execution_count": 1,
   "id": "74dbdeda",
   "metadata": {},
   "outputs": [],
   "source": [
    "import numpy as np\n",
    "import pandas as pd\n",
    "import matplotlib.pyplot as plt\n",
    "import seaborn as sns"
   ]
  },
  {
   "cell_type": "code",
   "execution_count": 2,
   "id": "b609018b",
   "metadata": {},
   "outputs": [
    {
     "data": {
      "text/html": [
       "<div>\n",
       "<style scoped>\n",
       "    .dataframe tbody tr th:only-of-type {\n",
       "        vertical-align: middle;\n",
       "    }\n",
       "\n",
       "    .dataframe tbody tr th {\n",
       "        vertical-align: top;\n",
       "    }\n",
       "\n",
       "    .dataframe thead th {\n",
       "        text-align: right;\n",
       "    }\n",
       "</style>\n",
       "<table border=\"1\" class=\"dataframe\">\n",
       "  <thead>\n",
       "    <tr style=\"text-align: right;\">\n",
       "      <th></th>\n",
       "      <th>Net Asset Value</th>\n",
       "      <th>Units</th>\n",
       "    </tr>\n",
       "    <tr>\n",
       "      <th>NAV date</th>\n",
       "      <th></th>\n",
       "      <th></th>\n",
       "    </tr>\n",
       "  </thead>\n",
       "  <tbody>\n",
       "    <tr>\n",
       "      <th>2018-08-01</th>\n",
       "      <td>660.739</td>\n",
       "      <td>1.513457</td>\n",
       "    </tr>\n",
       "    <tr>\n",
       "      <th>2018-08-02</th>\n",
       "      <td>657.467</td>\n",
       "      <td>1.520989</td>\n",
       "    </tr>\n",
       "    <tr>\n",
       "      <th>2018-08-03</th>\n",
       "      <td>666.177</td>\n",
       "      <td>1.501103</td>\n",
       "    </tr>\n",
       "    <tr>\n",
       "      <th>2018-08-06</th>\n",
       "      <td>670.898</td>\n",
       "      <td>1.490540</td>\n",
       "    </tr>\n",
       "    <tr>\n",
       "      <th>2018-08-07</th>\n",
       "      <td>667.481</td>\n",
       "      <td>1.498170</td>\n",
       "    </tr>\n",
       "    <tr>\n",
       "      <th>...</th>\n",
       "      <td>...</td>\n",
       "      <td>...</td>\n",
       "    </tr>\n",
       "    <tr>\n",
       "      <th>2019-12-24</th>\n",
       "      <td>705.575</td>\n",
       "      <td>1.417284</td>\n",
       "    </tr>\n",
       "    <tr>\n",
       "      <th>2019-12-26</th>\n",
       "      <td>701.140</td>\n",
       "      <td>1.426249</td>\n",
       "    </tr>\n",
       "    <tr>\n",
       "      <th>2019-12-27</th>\n",
       "      <td>712.162</td>\n",
       "      <td>1.404175</td>\n",
       "    </tr>\n",
       "    <tr>\n",
       "      <th>2019-12-30</th>\n",
       "      <td>711.122</td>\n",
       "      <td>1.406228</td>\n",
       "    </tr>\n",
       "    <tr>\n",
       "      <th>2019-12-31</th>\n",
       "      <td>709.896</td>\n",
       "      <td>1.408657</td>\n",
       "    </tr>\n",
       "  </tbody>\n",
       "</table>\n",
       "<p>343 rows × 2 columns</p>\n",
       "</div>"
      ],
      "text/plain": [
       "            Net Asset Value     Units\n",
       "NAV date                             \n",
       "2018-08-01          660.739  1.513457\n",
       "2018-08-02          657.467  1.520989\n",
       "2018-08-03          666.177  1.501103\n",
       "2018-08-06          670.898  1.490540\n",
       "2018-08-07          667.481  1.498170\n",
       "...                     ...       ...\n",
       "2019-12-24          705.575  1.417284\n",
       "2019-12-26          701.140  1.426249\n",
       "2019-12-27          712.162  1.404175\n",
       "2019-12-30          711.122  1.406228\n",
       "2019-12-31          709.896  1.408657\n",
       "\n",
       "[343 rows x 2 columns]"
      ]
     },
     "execution_count": 2,
     "metadata": {},
     "output_type": "execute_result"
    }
   ],
   "source": [
    "df = pd.read_excel(\"HDFC Flexi Cap Fund - Growth Option - Direct Plan (Day Testing).xlsx\")\n",
    "\n",
    "df = df.set_index(\"NAV date\")\n",
    "\n",
    "df[\"Units\"] = 1000/df['Net Asset Value']\n",
    "\n",
    "df"
   ]
  },
  {
   "cell_type": "code",
   "execution_count": 3,
   "id": "8f971e64",
   "metadata": {},
   "outputs": [
    {
     "name": "stdout",
     "output_type": "stream",
     "text": [
      "Number of Months: 17\n"
     ]
    }
   ],
   "source": [
    "# Create a series of dates from start date to end date\n",
    "dates = pd.date_range(start='2018-08-01', end='2019-12-31', freq='D')\n",
    "\n",
    "# Convert the dates to monthly periods\n",
    "months = dates.to_period('M')\n",
    "\n",
    "# Count the number of unique months in the series\n",
    "number_of_months = months.nunique()\n",
    "\n",
    "# Print the number of months\n",
    "print(\"Number of Months:\", number_of_months)"
   ]
  },
  {
   "cell_type": "code",
   "execution_count": 4,
   "id": "42eba8cd",
   "metadata": {
    "scrolled": true
   },
   "outputs": [
    {
     "name": "stdout",
     "output_type": "stream",
     "text": [
      "Total Units till Date: 507.58775323589464\n",
      "Invested amount: 343000\n",
      "Total amount in your account as of today: 360334.51567114866\n",
      "Profit Earned on Investment: 17334.515671148663\n",
      "Profit Percentage: 5.053794656311564\n",
      "Profit Percentage per month: 3.567384463278751\n"
     ]
    }
   ],
   "source": [
    "total_units = df['Units'].sum()\n",
    "print(\"Total Units till Date:\",total_units)\n",
    "\n",
    "Invested = len(df)*1000\n",
    "print(\"Invested amount:\",Invested)\n",
    "\n",
    "total_amount = total_units*df.iloc[-1,0]\n",
    "print(\"Total amount in your account as of today:\",total_amount)\n",
    "\n",
    "profit = total_amount-Invested\n",
    "print(\"Profit Earned on Investment:\",profit)\n",
    "\n",
    "profit_percentage = (profit/Invested)*100\n",
    "print(\"Profit Percentage:\",profit_percentage)\n",
    "\n",
    "profit_percentage_per_month = (profit_percentage/17)*12\n",
    "print(\"Profit Percentage per month:\",profit_percentage_per_month)"
   ]
  },
  {
   "cell_type": "markdown",
   "id": "06425da7",
   "metadata": {},
   "source": [
    "# Visualize the Time Series\n",
    "### Check for trend, seasonality or random patterns"
   ]
  },
  {
   "cell_type": "code",
   "execution_count": 5,
   "id": "fbe7500f",
   "metadata": {},
   "outputs": [
    {
     "data": {
      "image/png": "[encoded data removed]",
      "text/plain": [
       "<Figure size 640x480 with 1 Axes>"
      ]
     },
     "metadata": {},
     "output_type": "display_data"
    }
   ],
   "source": [
    "sns.lineplot(x=df.index,y=df[\"Net Asset Value\"])\n",
    "plt.show()"
   ]
  },
  {
   "cell_type": "markdown",
   "id": "35210a9e",
   "metadata": {},
   "source": [
    "## HDFC Flexi Cap Fund - Growth Option - Direct Plan (10 Days Training)"
   ]
  },
  {
   "cell_type": "code",
   "execution_count": 1,
   "id": "a5d32170",
   "metadata": {},
   "outputs": [],
   "source": [
    "import numpy as np\n",
    "import pandas as pd\n",
    "import matplotlib.pyplot as plt\n",
    "import seaborn as sns"
   ]
  },
  {
   "cell_type": "code",
   "execution_count": 2,
   "id": "eecad967",
   "metadata": {},
   "outputs": [
    {
     "data": {
      "text/html": [
       "<div>\n",
       "<style scoped>\n",
       "    .dataframe tbody tr th:only-of-type {\n",
       "        vertical-align: middle;\n",
       "    }\n",
       "\n",
       "    .dataframe tbody tr th {\n",
       "        vertical-align: top;\n",
       "    }\n",
       "\n",
       "    .dataframe thead th {\n",
       "        text-align: right;\n",
       "    }\n",
       "</style>\n",
       "<table border=\"1\" class=\"dataframe\">\n",
       "  <thead>\n",
       "    <tr style=\"text-align: right;\">\n",
       "      <th></th>\n",
       "      <th>Net Asset Value</th>\n",
       "      <th>Units</th>\n",
       "    </tr>\n",
       "    <tr>\n",
       "      <th>NAV date</th>\n",
       "      <th></th>\n",
       "      <th></th>\n",
       "    </tr>\n",
       "  </thead>\n",
       "  <tbody>\n",
       "    <tr>\n",
       "      <th>2013-01-01</th>\n",
       "      <td>296.876</td>\n",
       "      <td>33.562060</td>\n",
       "    </tr>\n",
       "    <tr>\n",
       "      <th>2013-01-15</th>\n",
       "      <td>302.898</td>\n",
       "      <td>32.894803</td>\n",
       "    </tr>\n",
       "    <tr>\n",
       "      <th>2013-01-29</th>\n",
       "      <td>299.169</td>\n",
       "      <td>33.304821</td>\n",
       "    </tr>\n",
       "    <tr>\n",
       "      <th>2013-02-12</th>\n",
       "      <td>289.962</td>\n",
       "      <td>34.362330</td>\n",
       "    </tr>\n",
       "    <tr>\n",
       "      <th>2013-02-26</th>\n",
       "      <td>278.555</td>\n",
       "      <td>35.769489</td>\n",
       "    </tr>\n",
       "    <tr>\n",
       "      <th>...</th>\n",
       "      <td>...</td>\n",
       "      <td>...</td>\n",
       "    </tr>\n",
       "    <tr>\n",
       "      <th>2018-05-30</th>\n",
       "      <td>636.924</td>\n",
       "      <td>15.643578</td>\n",
       "    </tr>\n",
       "    <tr>\n",
       "      <th>2018-06-13</th>\n",
       "      <td>644.115</td>\n",
       "      <td>15.468930</td>\n",
       "    </tr>\n",
       "    <tr>\n",
       "      <th>2018-06-27</th>\n",
       "      <td>612.801</td>\n",
       "      <td>16.259389</td>\n",
       "    </tr>\n",
       "    <tr>\n",
       "      <th>2018-07-11</th>\n",
       "      <td>624.651</td>\n",
       "      <td>15.950939</td>\n",
       "    </tr>\n",
       "    <tr>\n",
       "      <th>2018-07-25</th>\n",
       "      <td>637.204</td>\n",
       "      <td>15.636703</td>\n",
       "    </tr>\n",
       "  </tbody>\n",
       "</table>\n",
       "<p>138 rows × 2 columns</p>\n",
       "</div>"
      ],
      "text/plain": [
       "            Net Asset Value      Units\n",
       "NAV date                              \n",
       "2013-01-01          296.876  33.562060\n",
       "2013-01-15          302.898  32.894803\n",
       "2013-01-29          299.169  33.304821\n",
       "2013-02-12          289.962  34.362330\n",
       "2013-02-26          278.555  35.769489\n",
       "...                     ...        ...\n",
       "2018-05-30          636.924  15.643578\n",
       "2018-06-13          644.115  15.468930\n",
       "2018-06-27          612.801  16.259389\n",
       "2018-07-11          624.651  15.950939\n",
       "2018-07-25          637.204  15.636703\n",
       "\n",
       "[138 rows x 2 columns]"
      ]
     },
     "execution_count": 2,
     "metadata": {},
     "output_type": "execute_result"
    }
   ],
   "source": [
    "df = pd.read_excel(\"HDFC Flexi Cap Fund - Growth Option - Direct Plan (Day Training).xlsx\")\n",
    "\n",
    "df = df.set_index(\"NAV date\")\n",
    "\n",
    "df = df.iloc[::10]\n",
    "\n",
    "df[\"Units\"] = 9963.77/df['Net Asset Value']\n",
    "\n",
    "df"
   ]
  },
  {
   "cell_type": "code",
   "execution_count": 3,
   "id": "95f62947",
   "metadata": {},
   "outputs": [
    {
     "name": "stdout",
     "output_type": "stream",
     "text": [
      "Total Units till Date: 3230.7958757117003\n",
      "Invested amount: 1375000.26\n",
      "Total amount in your account as of today: 2058676.055186998\n",
      "Profit Earned on Investment: 683675.7951869981\n",
      "Profit Percentage: 49.7218666116469\n",
      "Profit Percentage per month: 8.905408945369594\n"
     ]
    }
   ],
   "source": [
    "total_units = df['Units'].sum()\n",
    "print(\"Total Units till Date:\",total_units)\n",
    "\n",
    "Invested = len(df)*9963.77\n",
    "print(\"Invested amount:\",Invested)\n",
    "\n",
    "total_amount = total_units*df.iloc[-1,0]\n",
    "print(\"Total amount in your account as of today:\",total_amount)\n",
    "\n",
    "profit = total_amount-Invested\n",
    "print(\"Profit Earned on Investment:\",profit)\n",
    "\n",
    "profit_percentage = (profit/Invested)*100\n",
    "print(\"Profit Percentage:\",profit_percentage)\n",
    "\n",
    "profit_percentage_per_month = (profit_percentage/67)*12\n",
    "print(\"Profit Percentage per month:\",profit_percentage_per_month)"
   ]
  },
  {
   "cell_type": "markdown",
   "id": "fa11c7bf",
   "metadata": {},
   "source": [
    "**(OR)**"
   ]
  },
  {
   "cell_type": "code",
   "execution_count": 4,
   "id": "eb9f22b8",
   "metadata": {},
   "outputs": [
    {
     "name": "stdout",
     "output_type": "stream",
     "text": [
      "Total Units till Date: 3230.7958757117003\n",
      "Invested amount: 1375000.26\n",
      "Total amount in your account as of today: 2138644.7147026146\n",
      "Profit Earned on Investment: 763644.4547026146\n",
      "Profit Percentage: 55.53776802213947\n",
      "Profit Percentage per month: 9.947062929338411\n"
     ]
    }
   ],
   "source": [
    "total_units = df['Units'].sum()\n",
    "print(\"Total Units till Date:\",total_units)\n",
    "\n",
    "Invested = len(df)*9963.77\n",
    "print(\"Invested amount:\",Invested)\n",
    "\n",
    "total_amount = total_units*661.956\n",
    "print(\"Total amount in your account as of today:\",total_amount)\n",
    "\n",
    "profit = total_amount-Invested\n",
    "print(\"Profit Earned on Investment:\",profit)\n",
    "\n",
    "profit_percentage = (profit/Invested)*100\n",
    "print(\"Profit Percentage:\",profit_percentage)\n",
    "\n",
    "profit_percentage_per_month = (profit_percentage/67)*12\n",
    "print(\"Profit Percentage per month:\",profit_percentage_per_month)"
   ]
  },
  {
   "cell_type": "code",
   "execution_count": 5,
   "id": "97e9baed",
   "metadata": {},
   "outputs": [
    {
     "name": "stdout",
     "output_type": "stream",
     "text": [
      "Number of Months: 67\n"
     ]
    }
   ],
   "source": [
    "# Create a series of dates from start date to end date\n",
    "dates = pd.date_range(start='2013-01-01', end='2018-07-31', freq='D')\n",
    "\n",
    "# Convert the dates to monthly periods\n",
    "months = dates.to_period('M')\n",
    "\n",
    "# Count the number of unique months in the series\n",
    "number_of_months = months.nunique()\n",
    "\n",
    "# Print the number of months\n",
    "print(\"Number of Months:\", number_of_months)"
   ]
  },
  {
   "cell_type": "markdown",
   "id": "f389985c",
   "metadata": {},
   "source": [
    "# Visualize the Time Series\n",
    "### Check for trend, seasonality or random patterns"
   ]
  },
  {
   "cell_type": "code",
   "execution_count": 6,
   "id": "37ba0b79",
   "metadata": {},
   "outputs": [
    {
     "data": {
      "image/png": "[encoded data removed]",
      "text/plain": [
       "<Figure size 640x480 with 1 Axes>"
      ]
     },
     "metadata": {},
     "output_type": "display_data"
    }
   ],
   "source": [
    "sns.lineplot(x=df.index,y=df[\"Net Asset Value\"])\n",
    "plt.show()"
   ]
  },
  {
   "cell_type": "code",
   "execution_count": null,
   "id": "56c40df4",
   "metadata": {},
   "outputs": [],
   "source": []
  },
  {
   "cell_type": "markdown",
   "id": "1cfc4bf8",
   "metadata": {},
   "source": [
    "## HDFC Flexi Cap Fund - Growth Option - Direct Plan (10-Days Testing)"
   ]
  },
  {
   "cell_type": "code",
   "execution_count": 1,
   "id": "c47ca849",
   "metadata": {},
   "outputs": [],
   "source": [
    "import numpy as np\n",
    "import pandas as pd\n",
    "import matplotlib.pyplot as plt\n",
    "import seaborn as sns"
   ]
  },
  {
   "cell_type": "code",
   "execution_count": 2,
   "id": "ef744f65",
   "metadata": {},
   "outputs": [
    {
     "data": {
      "text/html": [
       "<div>\n",
       "<style scoped>\n",
       "    .dataframe tbody tr th:only-of-type {\n",
       "        vertical-align: middle;\n",
       "    }\n",
       "\n",
       "    .dataframe tbody tr th {\n",
       "        vertical-align: top;\n",
       "    }\n",
       "\n",
       "    .dataframe thead th {\n",
       "        text-align: right;\n",
       "    }\n",
       "</style>\n",
       "<table border=\"1\" class=\"dataframe\">\n",
       "  <thead>\n",
       "    <tr style=\"text-align: right;\">\n",
       "      <th></th>\n",
       "      <th>Net Asset Value</th>\n",
       "      <th>Units</th>\n",
       "    </tr>\n",
       "    <tr>\n",
       "      <th>NAV date</th>\n",
       "      <th></th>\n",
       "      <th></th>\n",
       "    </tr>\n",
       "  </thead>\n",
       "  <tbody>\n",
       "    <tr>\n",
       "      <th>2018-08-01</th>\n",
       "      <td>660.739</td>\n",
       "      <td>15.079736</td>\n",
       "    </tr>\n",
       "    <tr>\n",
       "      <th>2018-08-16</th>\n",
       "      <td>668.803</td>\n",
       "      <td>14.897915</td>\n",
       "    </tr>\n",
       "    <tr>\n",
       "      <th>2018-08-31</th>\n",
       "      <td>696.941</td>\n",
       "      <td>14.296433</td>\n",
       "    </tr>\n",
       "    <tr>\n",
       "      <th>2018-09-17</th>\n",
       "      <td>680.256</td>\n",
       "      <td>14.647089</td>\n",
       "    </tr>\n",
       "    <tr>\n",
       "      <th>2018-10-03</th>\n",
       "      <td>643.398</td>\n",
       "      <td>15.486169</td>\n",
       "    </tr>\n",
       "    <tr>\n",
       "      <th>2018-10-17</th>\n",
       "      <td>623.203</td>\n",
       "      <td>15.988001</td>\n",
       "    </tr>\n",
       "    <tr>\n",
       "      <th>2018-11-01</th>\n",
       "      <td>642.080</td>\n",
       "      <td>15.517957</td>\n",
       "    </tr>\n",
       "    <tr>\n",
       "      <th>2018-11-19</th>\n",
       "      <td>654.226</td>\n",
       "      <td>15.229859</td>\n",
       "    </tr>\n",
       "    <tr>\n",
       "      <th>2018-12-04</th>\n",
       "      <td>652.109</td>\n",
       "      <td>15.279301</td>\n",
       "    </tr>\n",
       "    <tr>\n",
       "      <th>2018-12-18</th>\n",
       "      <td>656.492</td>\n",
       "      <td>15.177291</td>\n",
       "    </tr>\n",
       "    <tr>\n",
       "      <th>2019-01-02</th>\n",
       "      <td>657.790</td>\n",
       "      <td>15.147342</td>\n",
       "    </tr>\n",
       "    <tr>\n",
       "      <th>2019-01-16</th>\n",
       "      <td>669.715</td>\n",
       "      <td>14.877627</td>\n",
       "    </tr>\n",
       "    <tr>\n",
       "      <th>2019-01-30</th>\n",
       "      <td>651.903</td>\n",
       "      <td>15.284130</td>\n",
       "    </tr>\n",
       "    <tr>\n",
       "      <th>2019-02-13</th>\n",
       "      <td>632.842</td>\n",
       "      <td>15.744483</td>\n",
       "    </tr>\n",
       "    <tr>\n",
       "      <th>2019-02-27</th>\n",
       "      <td>643.680</td>\n",
       "      <td>15.479384</td>\n",
       "    </tr>\n",
       "    <tr>\n",
       "      <th>2019-03-14</th>\n",
       "      <td>688.300</td>\n",
       "      <td>14.475912</td>\n",
       "    </tr>\n",
       "    <tr>\n",
       "      <th>2019-03-29</th>\n",
       "      <td>716.073</td>\n",
       "      <td>13.914461</td>\n",
       "    </tr>\n",
       "    <tr>\n",
       "      <th>2019-04-12</th>\n",
       "      <td>712.462</td>\n",
       "      <td>13.984984</td>\n",
       "    </tr>\n",
       "    <tr>\n",
       "      <th>2019-05-02</th>\n",
       "      <td>704.179</td>\n",
       "      <td>14.149485</td>\n",
       "    </tr>\n",
       "    <tr>\n",
       "      <th>2019-05-16</th>\n",
       "      <td>680.207</td>\n",
       "      <td>14.648144</td>\n",
       "    </tr>\n",
       "    <tr>\n",
       "      <th>2019-05-30</th>\n",
       "      <td>736.006</td>\n",
       "      <td>13.537621</td>\n",
       "    </tr>\n",
       "    <tr>\n",
       "      <th>2019-06-14</th>\n",
       "      <td>723.957</td>\n",
       "      <td>13.762931</td>\n",
       "    </tr>\n",
       "    <tr>\n",
       "      <th>2019-06-28</th>\n",
       "      <td>736.762</td>\n",
       "      <td>13.523730</td>\n",
       "    </tr>\n",
       "    <tr>\n",
       "      <th>2019-07-12</th>\n",
       "      <td>711.854</td>\n",
       "      <td>13.996929</td>\n",
       "    </tr>\n",
       "    <tr>\n",
       "      <th>2019-07-26</th>\n",
       "      <td>689.086</td>\n",
       "      <td>14.459400</td>\n",
       "    </tr>\n",
       "    <tr>\n",
       "      <th>2019-08-09</th>\n",
       "      <td>664.209</td>\n",
       "      <td>15.000956</td>\n",
       "    </tr>\n",
       "    <tr>\n",
       "      <th>2019-08-27</th>\n",
       "      <td>661.746</td>\n",
       "      <td>15.056789</td>\n",
       "    </tr>\n",
       "    <tr>\n",
       "      <th>2019-09-12</th>\n",
       "      <td>664.016</td>\n",
       "      <td>15.005316</td>\n",
       "    </tr>\n",
       "    <tr>\n",
       "      <th>2019-09-26</th>\n",
       "      <td>686.715</td>\n",
       "      <td>14.509323</td>\n",
       "    </tr>\n",
       "    <tr>\n",
       "      <th>2019-10-14</th>\n",
       "      <td>659.682</td>\n",
       "      <td>15.103899</td>\n",
       "    </tr>\n",
       "    <tr>\n",
       "      <th>2019-10-30</th>\n",
       "      <td>696.873</td>\n",
       "      <td>14.297828</td>\n",
       "    </tr>\n",
       "    <tr>\n",
       "      <th>2019-11-14</th>\n",
       "      <td>693.653</td>\n",
       "      <td>14.364199</td>\n",
       "    </tr>\n",
       "    <tr>\n",
       "      <th>2019-11-28</th>\n",
       "      <td>716.035</td>\n",
       "      <td>13.915200</td>\n",
       "    </tr>\n",
       "    <tr>\n",
       "      <th>2019-12-12</th>\n",
       "      <td>693.453</td>\n",
       "      <td>14.368342</td>\n",
       "    </tr>\n",
       "    <tr>\n",
       "      <th>2019-12-27</th>\n",
       "      <td>712.162</td>\n",
       "      <td>13.990876</td>\n",
       "    </tr>\n",
       "  </tbody>\n",
       "</table>\n",
       "</div>"
      ],
      "text/plain": [
       "            Net Asset Value      Units\n",
       "NAV date                              \n",
       "2018-08-01          660.739  15.079736\n",
       "2018-08-16          668.803  14.897915\n",
       "2018-08-31          696.941  14.296433\n",
       "2018-09-17          680.256  14.647089\n",
       "2018-10-03          643.398  15.486169\n",
       "2018-10-17          623.203  15.988001\n",
       "2018-11-01          642.080  15.517957\n",
       "2018-11-19          654.226  15.229859\n",
       "2018-12-04          652.109  15.279301\n",
       "2018-12-18          656.492  15.177291\n",
       "2019-01-02          657.790  15.147342\n",
       "2019-01-16          669.715  14.877627\n",
       "2019-01-30          651.903  15.284130\n",
       "2019-02-13          632.842  15.744483\n",
       "2019-02-27          643.680  15.479384\n",
       "2019-03-14          688.300  14.475912\n",
       "2019-03-29          716.073  13.914461\n",
       "2019-04-12          712.462  13.984984\n",
       "2019-05-02          704.179  14.149485\n",
       "2019-05-16          680.207  14.648144\n",
       "2019-05-30          736.006  13.537621\n",
       "2019-06-14          723.957  13.762931\n",
       "2019-06-28          736.762  13.523730\n",
       "2019-07-12          711.854  13.996929\n",
       "2019-07-26          689.086  14.459400\n",
       "2019-08-09          664.209  15.000956\n",
       "2019-08-27          661.746  15.056789\n",
       "2019-09-12          664.016  15.005316\n",
       "2019-09-26          686.715  14.509323\n",
       "2019-10-14          659.682  15.103899\n",
       "2019-10-30          696.873  14.297828\n",
       "2019-11-14          693.653  14.364199\n",
       "2019-11-28          716.035  13.915200\n",
       "2019-12-12          693.453  14.368342\n",
       "2019-12-27          712.162  13.990876"
      ]
     },
     "execution_count": 2,
     "metadata": {},
     "output_type": "execute_result"
    }
   ],
   "source": [
    "df = pd.read_excel(\"HDFC Flexi Cap Fund - Growth Option - Direct Plan (Day Testing).xlsx\")\n",
    "\n",
    "df = df.set_index(\"NAV date\")\n",
    "\n",
    "df = df.iloc[::10]\n",
    "\n",
    "df[\"Units\"] = 9963.77/df['Net Asset Value']\n",
    "\n",
    "df"
   ]
  },
  {
   "cell_type": "code",
   "execution_count": 3,
   "id": "8f7e782a",
   "metadata": {},
   "outputs": [
    {
     "name": "stdout",
     "output_type": "stream",
     "text": [
      "Number of Months: 17\n"
     ]
    }
   ],
   "source": [
    "# Create a series of dates from start date to end date\n",
    "dates = pd.date_range(start='2018-08-01', end='2019-12-31', freq='D')\n",
    "\n",
    "# Convert the dates to monthly periods\n",
    "months = dates.to_period('M')\n",
    "\n",
    "# Count the number of unique months in the series\n",
    "number_of_months = months.nunique()\n",
    "\n",
    "# Print the number of months\n",
    "print(\"Number of Months:\", number_of_months)"
   ]
  },
  {
   "cell_type": "code",
   "execution_count": 4,
   "id": "f413acd5",
   "metadata": {},
   "outputs": [
    {
     "name": "stdout",
     "output_type": "stream",
     "text": [
      "Total Units till Date: 514.1990398908308\n",
      "Invested amount: 348731.95\n",
      "Total amount in your account as of today: 366193.01664673386\n",
      "Profit Earned on Investment: 17461.066646733845\n",
      "Profit Percentage: 5.007016605944435\n",
      "Profit Percentage per month: 3.534364663019601\n"
     ]
    }
   ],
   "source": [
    "total_units = df['Units'].sum()\n",
    "print(\"Total Units till Date:\",total_units)\n",
    "\n",
    "Invested = len(df)*9963.77\n",
    "print(\"Invested amount:\",Invested)\n",
    "\n",
    "total_amount = total_units*df.iloc[-1,0]\n",
    "print(\"Total amount in your account as of today:\",total_amount)\n",
    "\n",
    "profit = total_amount-Invested\n",
    "print(\"Profit Earned on Investment:\",profit)\n",
    "\n",
    "profit_percentage = (profit/Invested)*100\n",
    "print(\"Profit Percentage:\",profit_percentage)\n",
    "\n",
    "profit_percentage_per_month = (profit_percentage/17)*12\n",
    "print(\"Profit Percentage per month:\",profit_percentage_per_month)"
   ]
  },
  {
   "cell_type": "markdown",
   "id": "531c6683",
   "metadata": {},
   "source": [
    "**(OR)**"
   ]
  },
  {
   "cell_type": "code",
   "execution_count": 5,
   "id": "bf8986be",
   "metadata": {},
   "outputs": [
    {
     "name": "stdout",
     "output_type": "stream",
     "text": [
      "Total Units till Date: 514.1990398908308\n",
      "Invested amount: 348731.95\n",
      "Total amount in your account as of today: 365027.8416223412\n",
      "Profit Earned on Investment: 16295.89162234118\n",
      "Profit Percentage: 4.672898947842657\n",
      "Profit Percentage per month: 3.2985169043595226\n"
     ]
    }
   ],
   "source": [
    "total_units = df['Units'].sum()\n",
    "print(\"Total Units till Date:\",total_units)\n",
    "\n",
    "Invested = len(df)*9963.77\n",
    "print(\"Invested amount:\",Invested)\n",
    "\n",
    "total_amount = total_units*709.896\n",
    "print(\"Total amount in your account as of today:\",total_amount)\n",
    "\n",
    "profit = total_amount-Invested\n",
    "print(\"Profit Earned on Investment:\",profit)\n",
    "\n",
    "profit_percentage = (profit/Invested)*100\n",
    "print(\"Profit Percentage:\",profit_percentage)\n",
    "\n",
    "profit_percentage_per_month = (profit_percentage/17)*12\n",
    "print(\"Profit Percentage per month:\",profit_percentage_per_month)"
   ]
  },
  {
   "cell_type": "markdown",
   "id": "3cc97f7a",
   "metadata": {},
   "source": [
    "# Visualize the Time Series\n",
    "### Check for trend, seasonality or random patterns"
   ]
  },
  {
   "cell_type": "code",
   "execution_count": 6,
   "id": "ad446559",
   "metadata": {},
   "outputs": [
    {
     "data": {
      "image/png": "[encoded data removed]",
      "text/plain": [
       "<Figure size 640x480 with 1 Axes>"
      ]
     },
     "metadata": {},
     "output_type": "display_data"
    }
   ],
   "source": [
    "sns.lineplot(x=df.index,y=df[\"Net Asset Value\"])\n",
    "plt.show()"
   ]
  },
  {
   "cell_type": "code",
   "execution_count": null,
   "id": "ee3a68a2",
   "metadata": {},
   "outputs": [],
   "source": []
  },
  {
   "cell_type": "markdown",
   "id": "4093d613",
   "metadata": {},
   "source": [
    "## HDFC Flexi Cap Fund - Growth Option - Direct Plan (15 Days Training)"
   ]
  },
  {
   "cell_type": "code",
   "execution_count": 1,
   "id": "82c1d6d0",
   "metadata": {},
   "outputs": [],
   "source": [
    "import numpy as np\n",
    "import pandas as pd\n",
    "import matplotlib.pyplot as plt\n",
    "import seaborn as sns"
   ]
  },
  {
   "cell_type": "code",
   "execution_count": 2,
   "id": "62dec1a5",
   "metadata": {},
   "outputs": [
    {
     "data": {
      "text/html": [
       "<div>\n",
       "<style scoped>\n",
       "    .dataframe tbody tr th:only-of-type {\n",
       "        vertical-align: middle;\n",
       "    }\n",
       "\n",
       "    .dataframe tbody tr th {\n",
       "        vertical-align: top;\n",
       "    }\n",
       "\n",
       "    .dataframe thead th {\n",
       "        text-align: right;\n",
       "    }\n",
       "</style>\n",
       "<table border=\"1\" class=\"dataframe\">\n",
       "  <thead>\n",
       "    <tr style=\"text-align: right;\">\n",
       "      <th></th>\n",
       "      <th>Net Asset Value</th>\n",
       "      <th>Units</th>\n",
       "    </tr>\n",
       "    <tr>\n",
       "      <th>NAV date</th>\n",
       "      <th></th>\n",
       "      <th></th>\n",
       "    </tr>\n",
       "  </thead>\n",
       "  <tbody>\n",
       "    <tr>\n",
       "      <th>2013-01-01</th>\n",
       "      <td>296.876</td>\n",
       "      <td>50.343073</td>\n",
       "    </tr>\n",
       "    <tr>\n",
       "      <th>2013-01-22</th>\n",
       "      <td>301.112</td>\n",
       "      <td>49.634853</td>\n",
       "    </tr>\n",
       "    <tr>\n",
       "      <th>2013-02-12</th>\n",
       "      <td>289.962</td>\n",
       "      <td>51.543478</td>\n",
       "    </tr>\n",
       "    <tr>\n",
       "      <th>2013-03-05</th>\n",
       "      <td>279.133</td>\n",
       "      <td>53.543114</td>\n",
       "    </tr>\n",
       "    <tr>\n",
       "      <th>2013-03-26</th>\n",
       "      <td>267.881</td>\n",
       "      <td>55.792124</td>\n",
       "    </tr>\n",
       "    <tr>\n",
       "      <th>...</th>\n",
       "      <td>...</td>\n",
       "      <td>...</td>\n",
       "    </tr>\n",
       "    <tr>\n",
       "      <th>2018-04-24</th>\n",
       "      <td>642.589</td>\n",
       "      <td>23.258490</td>\n",
       "    </tr>\n",
       "    <tr>\n",
       "      <th>2018-05-16</th>\n",
       "      <td>639.104</td>\n",
       "      <td>23.385318</td>\n",
       "    </tr>\n",
       "    <tr>\n",
       "      <th>2018-06-06</th>\n",
       "      <td>628.465</td>\n",
       "      <td>23.781197</td>\n",
       "    </tr>\n",
       "    <tr>\n",
       "      <th>2018-06-27</th>\n",
       "      <td>612.801</td>\n",
       "      <td>24.389076</td>\n",
       "    </tr>\n",
       "    <tr>\n",
       "      <th>2018-07-18</th>\n",
       "      <td>618.020</td>\n",
       "      <td>24.183117</td>\n",
       "    </tr>\n",
       "  </tbody>\n",
       "</table>\n",
       "<p>92 rows × 2 columns</p>\n",
       "</div>"
      ],
      "text/plain": [
       "            Net Asset Value      Units\n",
       "NAV date                              \n",
       "2013-01-01          296.876  50.343073\n",
       "2013-01-22          301.112  49.634853\n",
       "2013-02-12          289.962  51.543478\n",
       "2013-03-05          279.133  53.543114\n",
       "2013-03-26          267.881  55.792124\n",
       "...                     ...        ...\n",
       "2018-04-24          642.589  23.258490\n",
       "2018-05-16          639.104  23.385318\n",
       "2018-06-06          628.465  23.781197\n",
       "2018-06-27          612.801  24.389076\n",
       "2018-07-18          618.020  24.183117\n",
       "\n",
       "[92 rows x 2 columns]"
      ]
     },
     "execution_count": 2,
     "metadata": {},
     "output_type": "execute_result"
    }
   ],
   "source": [
    "df = pd.read_excel(\"HDFC Flexi Cap Fund - Growth Option - Direct Plan (Day Training).xlsx\")\n",
    "\n",
    "df = df.set_index(\"NAV date\")\n",
    "\n",
    "df = df.iloc[::15]\n",
    "\n",
    "df[\"Units\"] = 14945.65/df['Net Asset Value']\n",
    "\n",
    "df"
   ]
  },
  {
   "cell_type": "code",
   "execution_count": 3,
   "id": "87805689",
   "metadata": {},
   "outputs": [
    {
     "name": "stdout",
     "output_type": "stream",
     "text": [
      "Total Units till Date: 3237.4472512452767\n",
      "Invested amount: 1374999.8\n",
      "Total amount in your account as of today: 2143047.6326453183\n",
      "Profit Earned on Investment: 768047.8326453182\n",
      "Profit Percentage: 55.85803231719147\n",
      "Profit Percentage per month: 10.004423698601457\n"
     ]
    }
   ],
   "source": [
    "total_units = df['Units'].sum()\n",
    "print(\"Total Units till Date:\",total_units)\n",
    "\n",
    "Invested = len(df)*14945.65\n",
    "print(\"Invested amount:\",Invested)\n",
    "\n",
    "total_amount = total_units*661.956\n",
    "print(\"Total amount in your account as of today:\",total_amount)\n",
    "\n",
    "profit = total_amount-Invested\n",
    "print(\"Profit Earned on Investment:\",profit)\n",
    "\n",
    "profit_percentage = (profit/Invested)*100\n",
    "print(\"Profit Percentage:\",profit_percentage)\n",
    "\n",
    "profit_percentage_per_month = (profit_percentage/67)*12\n",
    "print(\"Profit Percentage per month:\",profit_percentage_per_month)"
   ]
  },
  {
   "cell_type": "markdown",
   "id": "56ab13ea",
   "metadata": {},
   "source": [
    "**(OR)**"
   ]
  },
  {
   "cell_type": "code",
   "execution_count": 4,
   "id": "29dda2da",
   "metadata": {},
   "outputs": [
    {
     "name": "stdout",
     "output_type": "stream",
     "text": [
      "Total Units till Date: 3237.4472512452767\n",
      "Invested amount: 1374999.8\n",
      "Total amount in your account as of today: 2000807.1502146057\n",
      "Profit Earned on Investment: 625807.3502146057\n",
      "Profit Percentage: 45.513268453901276\n",
      "Profit Percentage per month: 8.151630170847989\n"
     ]
    }
   ],
   "source": [
    "total_units = df['Units'].sum()\n",
    "print(\"Total Units till Date:\",total_units)\n",
    "\n",
    "Invested = len(df)*14945.65\n",
    "print(\"Invested amount:\",Invested)\n",
    "\n",
    "total_amount = total_units*df.iloc[-1,0]\n",
    "print(\"Total amount in your account as of today:\",total_amount)\n",
    "\n",
    "profit = total_amount-Invested\n",
    "print(\"Profit Earned on Investment:\",profit)\n",
    "\n",
    "profit_percentage = (profit/Invested)*100\n",
    "print(\"Profit Percentage:\",profit_percentage)\n",
    "\n",
    "profit_percentage_per_month = (profit_percentage/67)*12\n",
    "print(\"Profit Percentage per month:\",profit_percentage_per_month)"
   ]
  },
  {
   "cell_type": "code",
   "execution_count": 5,
   "id": "5b4475b8",
   "metadata": {},
   "outputs": [
    {
     "name": "stdout",
     "output_type": "stream",
     "text": [
      "Number of Months: 67\n"
     ]
    }
   ],
   "source": [
    "# Create a series of dates from start date to end date\n",
    "dates = pd.date_range(start='2013-01-01', end='2018-07-31', freq='D')\n",
    "\n",
    "# Convert the dates to monthly periods\n",
    "months = dates.to_period('M')\n",
    "\n",
    "# Count the number of unique months in the series\n",
    "number_of_months = months.nunique()\n",
    "\n",
    "# Print the number of months\n",
    "print(\"Number of Months:\", number_of_months)"
   ]
  },
  {
   "cell_type": "markdown",
   "id": "66b345eb",
   "metadata": {},
   "source": [
    "# Visualize the Time Series\n",
    "### Check for trend, seasonality or random patterns"
   ]
  },
  {
   "cell_type": "code",
   "execution_count": 6,
   "id": "a22fb5b8",
   "metadata": {
    "scrolled": true
   },
   "outputs": [
    {
     "data": {
      "image/png": "[encoded data removed]",
      "text/plain": [
       "<Figure size 640x480 with 1 Axes>"
      ]
     },
     "metadata": {},
     "output_type": "display_data"
    }
   ],
   "source": [
    "sns.lineplot(x=df.index,y=df[\"Net Asset Value\"])\n",
    "plt.show()"
   ]
  },
  {
   "cell_type": "code",
   "execution_count": null,
   "id": "06500608",
   "metadata": {},
   "outputs": [],
   "source": []
  },
  {
   "cell_type": "markdown",
   "id": "fca08f27",
   "metadata": {},
   "source": [
    "## HDFC Flexi Cap Fund - Growth Option - Direct Plan (15-Days Testing)"
   ]
  },
  {
   "cell_type": "code",
   "execution_count": 1,
   "id": "84c74f4b",
   "metadata": {},
   "outputs": [],
   "source": [
    "import numpy as np\n",
    "import pandas as pd\n",
    "import matplotlib.pyplot as plt\n",
    "import seaborn as sns"
   ]
  },
  {
   "cell_type": "code",
   "execution_count": 2,
   "id": "58a9cbcf",
   "metadata": {},
   "outputs": [
    {
     "data": {
      "text/html": [
       "<div>\n",
       "<style scoped>\n",
       "    .dataframe tbody tr th:only-of-type {\n",
       "        vertical-align: middle;\n",
       "    }\n",
       "\n",
       "    .dataframe tbody tr th {\n",
       "        vertical-align: top;\n",
       "    }\n",
       "\n",
       "    .dataframe thead th {\n",
       "        text-align: right;\n",
       "    }\n",
       "</style>\n",
       "<table border=\"1\" class=\"dataframe\">\n",
       "  <thead>\n",
       "    <tr style=\"text-align: right;\">\n",
       "      <th></th>\n",
       "      <th>Net Asset Value</th>\n",
       "      <th>Units</th>\n",
       "    </tr>\n",
       "    <tr>\n",
       "      <th>NAV date</th>\n",
       "      <th></th>\n",
       "      <th></th>\n",
       "    </tr>\n",
       "  </thead>\n",
       "  <tbody>\n",
       "    <tr>\n",
       "      <th>2018-08-01</th>\n",
       "      <td>660.739</td>\n",
       "      <td>22.619597</td>\n",
       "    </tr>\n",
       "    <tr>\n",
       "      <th>2018-08-24</th>\n",
       "      <td>681.830</td>\n",
       "      <td>21.919907</td>\n",
       "    </tr>\n",
       "    <tr>\n",
       "      <th>2018-09-17</th>\n",
       "      <td>680.256</td>\n",
       "      <td>21.970626</td>\n",
       "    </tr>\n",
       "    <tr>\n",
       "      <th>2018-10-10</th>\n",
       "      <td>626.908</td>\n",
       "      <td>23.840260</td>\n",
       "    </tr>\n",
       "    <tr>\n",
       "      <th>2018-11-01</th>\n",
       "      <td>642.080</td>\n",
       "      <td>23.276928</td>\n",
       "    </tr>\n",
       "    <tr>\n",
       "      <th>2018-11-27</th>\n",
       "      <td>647.197</td>\n",
       "      <td>23.092891</td>\n",
       "    </tr>\n",
       "    <tr>\n",
       "      <th>2018-12-18</th>\n",
       "      <td>656.492</td>\n",
       "      <td>22.765929</td>\n",
       "    </tr>\n",
       "    <tr>\n",
       "      <th>2019-01-09</th>\n",
       "      <td>666.153</td>\n",
       "      <td>22.435762</td>\n",
       "    </tr>\n",
       "    <tr>\n",
       "      <th>2019-01-30</th>\n",
       "      <td>651.903</td>\n",
       "      <td>22.926187</td>\n",
       "    </tr>\n",
       "    <tr>\n",
       "      <th>2019-02-20</th>\n",
       "      <td>637.305</td>\n",
       "      <td>23.451330</td>\n",
       "    </tr>\n",
       "    <tr>\n",
       "      <th>2019-03-14</th>\n",
       "      <td>688.300</td>\n",
       "      <td>21.713860</td>\n",
       "    </tr>\n",
       "    <tr>\n",
       "      <th>2019-04-05</th>\n",
       "      <td>712.547</td>\n",
       "      <td>20.974967</td>\n",
       "    </tr>\n",
       "    <tr>\n",
       "      <th>2019-05-02</th>\n",
       "      <td>704.179</td>\n",
       "      <td>21.224220</td>\n",
       "    </tr>\n",
       "    <tr>\n",
       "      <th>2019-05-23</th>\n",
       "      <td>709.278</td>\n",
       "      <td>21.071639</td>\n",
       "    </tr>\n",
       "    <tr>\n",
       "      <th>2019-06-14</th>\n",
       "      <td>723.957</td>\n",
       "      <td>20.644389</td>\n",
       "    </tr>\n",
       "    <tr>\n",
       "      <th>2019-07-05</th>\n",
       "      <td>732.469</td>\n",
       "      <td>20.404481</td>\n",
       "    </tr>\n",
       "    <tr>\n",
       "      <th>2019-07-26</th>\n",
       "      <td>689.086</td>\n",
       "      <td>21.689093</td>\n",
       "    </tr>\n",
       "    <tr>\n",
       "      <th>2019-08-20</th>\n",
       "      <td>659.515</td>\n",
       "      <td>22.661577</td>\n",
       "    </tr>\n",
       "    <tr>\n",
       "      <th>2019-09-12</th>\n",
       "      <td>664.016</td>\n",
       "      <td>22.507967</td>\n",
       "    </tr>\n",
       "    <tr>\n",
       "      <th>2019-10-04</th>\n",
       "      <td>659.187</td>\n",
       "      <td>22.672853</td>\n",
       "    </tr>\n",
       "    <tr>\n",
       "      <th>2019-10-30</th>\n",
       "      <td>696.873</td>\n",
       "      <td>21.446734</td>\n",
       "    </tr>\n",
       "    <tr>\n",
       "      <th>2019-11-21</th>\n",
       "      <td>703.893</td>\n",
       "      <td>21.232844</td>\n",
       "    </tr>\n",
       "    <tr>\n",
       "      <th>2019-12-12</th>\n",
       "      <td>693.453</td>\n",
       "      <td>21.552506</td>\n",
       "    </tr>\n",
       "  </tbody>\n",
       "</table>\n",
       "</div>"
      ],
      "text/plain": [
       "            Net Asset Value      Units\n",
       "NAV date                              \n",
       "2018-08-01          660.739  22.619597\n",
       "2018-08-24          681.830  21.919907\n",
       "2018-09-17          680.256  21.970626\n",
       "2018-10-10          626.908  23.840260\n",
       "2018-11-01          642.080  23.276928\n",
       "2018-11-27          647.197  23.092891\n",
       "2018-12-18          656.492  22.765929\n",
       "2019-01-09          666.153  22.435762\n",
       "2019-01-30          651.903  22.926187\n",
       "2019-02-20          637.305  23.451330\n",
       "2019-03-14          688.300  21.713860\n",
       "2019-04-05          712.547  20.974967\n",
       "2019-05-02          704.179  21.224220\n",
       "2019-05-23          709.278  21.071639\n",
       "2019-06-14          723.957  20.644389\n",
       "2019-07-05          732.469  20.404481\n",
       "2019-07-26          689.086  21.689093\n",
       "2019-08-20          659.515  22.661577\n",
       "2019-09-12          664.016  22.507967\n",
       "2019-10-04          659.187  22.672853\n",
       "2019-10-30          696.873  21.446734\n",
       "2019-11-21          703.893  21.232844\n",
       "2019-12-12          693.453  21.552506"
      ]
     },
     "execution_count": 2,
     "metadata": {},
     "output_type": "execute_result"
    }
   ],
   "source": [
    "df = pd.read_excel(\"HDFC Flexi Cap Fund - Growth Option - Direct Plan (Day Testing).xlsx\")\n",
    "\n",
    "df = df.set_index(\"NAV date\")\n",
    "\n",
    "df = df.iloc[::15]\n",
    "\n",
    "df[\"Units\"] = 14945.65/df['Net Asset Value']\n",
    "\n",
    "df"
   ]
  },
  {
   "cell_type": "code",
   "execution_count": 3,
   "id": "645a14fb",
   "metadata": {},
   "outputs": [
    {
     "name": "stdout",
     "output_type": "stream",
     "text": [
      "Number of Months: 17\n"
     ]
    }
   ],
   "source": [
    "# Create a series of dates from start date to end date\n",
    "dates = pd.date_range(start='2018-08-01', end='2019-12-31', freq='D')\n",
    "\n",
    "# Convert the dates to monthly periods\n",
    "months = dates.to_period('M')\n",
    "\n",
    "# Count the number of unique months in the series\n",
    "number_of_months = months.nunique()\n",
    "\n",
    "# Print the number of months\n",
    "print(\"Number of Months:\", number_of_months)"
   ]
  },
  {
   "cell_type": "code",
   "execution_count": 4,
   "id": "cc187933",
   "metadata": {},
   "outputs": [
    {
     "name": "stdout",
     "output_type": "stream",
     "text": [
      "Total Units till Date: 508.096547121597\n",
      "Invested amount: 343749.95\n",
      "Total amount in your account as of today: 352341.0748911128\n",
      "Profit Earned on Investment: 8591.124891112791\n",
      "Profit Percentage: 2.4992366954854224\n",
      "Profit Percentage per month: 1.7641670791661805\n"
     ]
    }
   ],
   "source": [
    "total_units = df['Units'].sum()\n",
    "print(\"Total Units till Date:\",total_units)\n",
    "\n",
    "Invested = len(df)*14945.65\n",
    "print(\"Invested amount:\",Invested)\n",
    "\n",
    "total_amount = total_units*df.iloc[-1,0]\n",
    "print(\"Total amount in your account as of today:\",total_amount)\n",
    "\n",
    "profit = total_amount-Invested\n",
    "print(\"Profit Earned on Investment:\",profit)\n",
    "\n",
    "profit_percentage = (profit/Invested)*100\n",
    "print(\"Profit Percentage:\",profit_percentage)\n",
    "\n",
    "profit_percentage_per_month = (profit_percentage/17)*12\n",
    "print(\"Profit Percentage per month:\",profit_percentage_per_month)"
   ]
  },
  {
   "cell_type": "markdown",
   "id": "60a172c1",
   "metadata": {},
   "source": [
    "**(OR)**"
   ]
  },
  {
   "cell_type": "code",
   "execution_count": 5,
   "id": "e0d31ff7",
   "metadata": {},
   "outputs": [
    {
     "name": "stdout",
     "output_type": "stream",
     "text": [
      "Total Units till Date: 508.096547121597\n",
      "Invested amount: 343749.95\n",
      "Total amount in your account as of today: 360695.7064154332\n",
      "Profit Earned on Investment: 16945.756415433192\n",
      "Profit Percentage: 4.929675310624247\n",
      "Profit Percentage per month: 3.4797708074994684\n"
     ]
    }
   ],
   "source": [
    "total_units = df['Units'].sum()\n",
    "print(\"Total Units till Date:\",total_units)\n",
    "\n",
    "Invested = len(df)*14945.65\n",
    "print(\"Invested amount:\",Invested)\n",
    "\n",
    "total_amount = total_units*709.896\n",
    "print(\"Total amount in your account as of today:\",total_amount)\n",
    "\n",
    "profit = total_amount-Invested\n",
    "print(\"Profit Earned on Investment:\",profit)\n",
    "\n",
    "profit_percentage = (profit/Invested)*100\n",
    "print(\"Profit Percentage:\",profit_percentage)\n",
    "\n",
    "profit_percentage_per_month = (profit_percentage/17)*12\n",
    "print(\"Profit Percentage per month:\",profit_percentage_per_month)"
   ]
  },
  {
   "cell_type": "markdown",
   "id": "f22daed1",
   "metadata": {},
   "source": [
    "# Visualize the Time Series\n",
    "### Check for trend, seasonality or random patterns"
   ]
  },
  {
   "cell_type": "code",
   "execution_count": 6,
   "id": "26eeff05",
   "metadata": {},
   "outputs": [
    {
     "data": {
      "image/png": "[encoded data removed]",
      "text/plain": [
       "<Figure size 640x480 with 1 Axes>"
      ]
     },
     "metadata": {},
     "output_type": "display_data"
    }
   ],
   "source": [
    "sns.lineplot(x=df.index,y=df[\"Net Asset Value\"])\n",
    "plt.show()"
   ]
  },
  {
   "cell_type": "code",
   "execution_count": null,
   "id": "d4a99d60",
   "metadata": {},
   "outputs": [],
   "source": []
  },
  {
   "cell_type": "markdown",
   "id": "55d24421",
   "metadata": {},
   "source": [
    "## HDFC Flexi Cap Fund - Growth Option - Direct Plan (Monthly Training)"
   ]
  },
  {
   "cell_type": "code",
   "execution_count": 1,
   "id": "f6734cc0",
   "metadata": {},
   "outputs": [],
   "source": [
    "import numpy as np\n",
    "import pandas as pd\n",
    "import matplotlib.pyplot as plt\n",
    "import seaborn as sns"
   ]
  },
  {
   "cell_type": "code",
   "execution_count": 2,
   "id": "39952b34",
   "metadata": {},
   "outputs": [
    {
     "data": {
      "text/html": [
       "<div>\n",
       "<style scoped>\n",
       "    .dataframe tbody tr th:only-of-type {\n",
       "        vertical-align: middle;\n",
       "    }\n",
       "\n",
       "    .dataframe tbody tr th {\n",
       "        vertical-align: top;\n",
       "    }\n",
       "\n",
       "    .dataframe thead th {\n",
       "        text-align: right;\n",
       "    }\n",
       "</style>\n",
       "<table border=\"1\" class=\"dataframe\">\n",
       "  <thead>\n",
       "    <tr style=\"text-align: right;\">\n",
       "      <th></th>\n",
       "      <th>Net Asset Value</th>\n",
       "      <th>NAV date</th>\n",
       "    </tr>\n",
       "  </thead>\n",
       "  <tbody>\n",
       "    <tr>\n",
       "      <th>0</th>\n",
       "      <td>296.876</td>\n",
       "      <td>2013-01-01</td>\n",
       "    </tr>\n",
       "    <tr>\n",
       "      <th>1</th>\n",
       "      <td>299.604</td>\n",
       "      <td>2013-01-02</td>\n",
       "    </tr>\n",
       "    <tr>\n",
       "      <th>2</th>\n",
       "      <td>300.196</td>\n",
       "      <td>2013-01-03</td>\n",
       "    </tr>\n",
       "    <tr>\n",
       "      <th>3</th>\n",
       "      <td>300.762</td>\n",
       "      <td>2013-01-04</td>\n",
       "    </tr>\n",
       "    <tr>\n",
       "      <th>4</th>\n",
       "      <td>299.986</td>\n",
       "      <td>2013-01-07</td>\n",
       "    </tr>\n",
       "    <tr>\n",
       "      <th>...</th>\n",
       "      <td>...</td>\n",
       "      <td>...</td>\n",
       "    </tr>\n",
       "    <tr>\n",
       "      <th>1370</th>\n",
       "      <td>637.204</td>\n",
       "      <td>2018-07-25</td>\n",
       "    </tr>\n",
       "    <tr>\n",
       "      <th>1371</th>\n",
       "      <td>645.988</td>\n",
       "      <td>2018-07-26</td>\n",
       "    </tr>\n",
       "    <tr>\n",
       "      <th>1372</th>\n",
       "      <td>653.557</td>\n",
       "      <td>2018-07-27</td>\n",
       "    </tr>\n",
       "    <tr>\n",
       "      <th>1373</th>\n",
       "      <td>662.102</td>\n",
       "      <td>2018-07-30</td>\n",
       "    </tr>\n",
       "    <tr>\n",
       "      <th>1374</th>\n",
       "      <td>661.956</td>\n",
       "      <td>2018-07-31</td>\n",
       "    </tr>\n",
       "  </tbody>\n",
       "</table>\n",
       "<p>1375 rows × 2 columns</p>\n",
       "</div>"
      ],
      "text/plain": [
       "      Net Asset Value   NAV date\n",
       "0             296.876 2013-01-01\n",
       "1             299.604 2013-01-02\n",
       "2             300.196 2013-01-03\n",
       "3             300.762 2013-01-04\n",
       "4             299.986 2013-01-07\n",
       "...               ...        ...\n",
       "1370          637.204 2018-07-25\n",
       "1371          645.988 2018-07-26\n",
       "1372          653.557 2018-07-27\n",
       "1373          662.102 2018-07-30\n",
       "1374          661.956 2018-07-31\n",
       "\n",
       "[1375 rows x 2 columns]"
      ]
     },
     "execution_count": 2,
     "metadata": {},
     "output_type": "execute_result"
    }
   ],
   "source": [
    "df = pd.read_excel(\"HDFC Flexi Cap Fund - Growth Option - Direct Plan (Day Training).xlsx\")\n",
    "df"
   ]
  },
  {
   "cell_type": "code",
   "execution_count": 3,
   "id": "fe25b5bd",
   "metadata": {},
   "outputs": [
    {
     "data": {
      "text/html": [
       "<div>\n",
       "<style scoped>\n",
       "    .dataframe tbody tr th:only-of-type {\n",
       "        vertical-align: middle;\n",
       "    }\n",
       "\n",
       "    .dataframe tbody tr th {\n",
       "        vertical-align: top;\n",
       "    }\n",
       "\n",
       "    .dataframe thead th {\n",
       "        text-align: right;\n",
       "    }\n",
       "</style>\n",
       "<table border=\"1\" class=\"dataframe\">\n",
       "  <thead>\n",
       "    <tr style=\"text-align: right;\">\n",
       "      <th></th>\n",
       "      <th>Net Asset Value</th>\n",
       "      <th>NAV date</th>\n",
       "    </tr>\n",
       "  </thead>\n",
       "  <tbody>\n",
       "    <tr>\n",
       "      <th>0</th>\n",
       "      <td>299.831</td>\n",
       "      <td>2013-01-31</td>\n",
       "    </tr>\n",
       "    <tr>\n",
       "      <th>1</th>\n",
       "      <td>274.166</td>\n",
       "      <td>2013-02-28</td>\n",
       "    </tr>\n",
       "    <tr>\n",
       "      <th>2</th>\n",
       "      <td>271.528</td>\n",
       "      <td>2013-03-28</td>\n",
       "    </tr>\n",
       "    <tr>\n",
       "      <th>3</th>\n",
       "      <td>282.760</td>\n",
       "      <td>2013-04-30</td>\n",
       "    </tr>\n",
       "    <tr>\n",
       "      <th>4</th>\n",
       "      <td>282.378</td>\n",
       "      <td>2013-05-31</td>\n",
       "    </tr>\n",
       "    <tr>\n",
       "      <th>...</th>\n",
       "      <td>...</td>\n",
       "      <td>...</td>\n",
       "    </tr>\n",
       "    <tr>\n",
       "      <th>62</th>\n",
       "      <td>616.414</td>\n",
       "      <td>2018-03-28</td>\n",
       "    </tr>\n",
       "    <tr>\n",
       "      <th>63</th>\n",
       "      <td>650.302</td>\n",
       "      <td>2018-04-30</td>\n",
       "    </tr>\n",
       "    <tr>\n",
       "      <th>64</th>\n",
       "      <td>639.182</td>\n",
       "      <td>2018-05-31</td>\n",
       "    </tr>\n",
       "    <tr>\n",
       "      <th>65</th>\n",
       "      <td>617.898</td>\n",
       "      <td>2018-06-29</td>\n",
       "    </tr>\n",
       "    <tr>\n",
       "      <th>66</th>\n",
       "      <td>661.956</td>\n",
       "      <td>2018-07-31</td>\n",
       "    </tr>\n",
       "  </tbody>\n",
       "</table>\n",
       "<p>67 rows × 2 columns</p>\n",
       "</div>"
      ],
      "text/plain": [
       "    Net Asset Value   NAV date\n",
       "0           299.831 2013-01-31\n",
       "1           274.166 2013-02-28\n",
       "2           271.528 2013-03-28\n",
       "3           282.760 2013-04-30\n",
       "4           282.378 2013-05-31\n",
       "..              ...        ...\n",
       "62          616.414 2018-03-28\n",
       "63          650.302 2018-04-30\n",
       "64          639.182 2018-05-31\n",
       "65          617.898 2018-06-29\n",
       "66          661.956 2018-07-31\n",
       "\n",
       "[67 rows x 2 columns]"
      ]
     },
     "execution_count": 3,
     "metadata": {},
     "output_type": "execute_result"
    }
   ],
   "source": [
    "# Convert the date column to datetime format\n",
    "df['NAV date'] = pd.to_datetime(df['NAV date'])\n",
    "\n",
    "# Group by the year and month of the date column and keep only the last row of each group\n",
    "df = df.groupby([df['NAV date'].dt.year, df['NAV date'].dt.month]).tail(1)\n",
    "\n",
    "# Reset the index\n",
    "df = df.reset_index(drop=True)\n",
    "\n",
    "df"
   ]
  },
  {
   "cell_type": "code",
   "execution_count": 4,
   "id": "2de066c8",
   "metadata": {},
   "outputs": [],
   "source": [
    "df = df.set_index(\"NAV date\")\n",
    "\n",
    "df[\"Units\"] = 20522.39/df['Net Asset Value']"
   ]
  },
  {
   "cell_type": "code",
   "execution_count": 5,
   "id": "12887f20",
   "metadata": {},
   "outputs": [
    {
     "name": "stdout",
     "output_type": "stream",
     "text": [
      "Number of Months: 67\n"
     ]
    }
   ],
   "source": [
    "# Create a series of dates from start date to end date\n",
    "dates = pd.date_range(start='2013-01-01', end='2018-07-31', freq='D')\n",
    "\n",
    "# Convert the dates to monthly periods\n",
    "months = dates.to_period('M')\n",
    "\n",
    "# Count the number of unique months in the series\n",
    "number_of_months = months.nunique()\n",
    "\n",
    "# Print the number of months\n",
    "print(\"Number of Months:\", number_of_months)"
   ]
  },
  {
   "cell_type": "code",
   "execution_count": 6,
   "id": "f37627fb",
   "metadata": {},
   "outputs": [
    {
     "name": "stdout",
     "output_type": "stream",
     "text": [
      "Total Units till Date: 3208.9150556192844\n",
      "Invested amount: 1375000.13\n",
      "Total amount in your account as of today: 2124160.574557519\n",
      "Profit Earned on Investment: 749160.4445575192\n",
      "Profit Percentage: 54.48439081656809\n",
      "Profit Percentage per month: 9.758398355206225\n"
     ]
    }
   ],
   "source": [
    "total_units = df['Units'].sum()\n",
    "print(\"Total Units till Date:\",total_units)\n",
    "\n",
    "Invested = len(df)*20522.39\n",
    "print(\"Invested amount:\",Invested)\n",
    "\n",
    "total_amount = total_units*df.iloc[-1,0]\n",
    "print(\"Total amount in your account as of today:\",total_amount)\n",
    "\n",
    "profit = total_amount-Invested\n",
    "print(\"Profit Earned on Investment:\",profit)\n",
    "\n",
    "profit_percentage = (profit/Invested)*100\n",
    "print(\"Profit Percentage:\",profit_percentage)\n",
    "\n",
    "profit_percentage_per_month = (profit_percentage/67)*12\n",
    "print(\"Profit Percentage per month:\",profit_percentage_per_month)"
   ]
  },
  {
   "cell_type": "markdown",
   "id": "47ced44a",
   "metadata": {},
   "source": [
    "# Visualize the Time Series\n",
    "### Check for trend, seasonality or random patterns"
   ]
  },
  {
   "cell_type": "code",
   "execution_count": 7,
   "id": "9e341ab0",
   "metadata": {},
   "outputs": [
    {
     "data": {
      "image/png": "[encoded data removed]",
      "text/plain": [
       "<Figure size 640x480 with 1 Axes>"
      ]
     },
     "metadata": {},
     "output_type": "display_data"
    }
   ],
   "source": [
    "sns.lineplot(x=df.index,y=df[\"Net Asset Value\"])\n",
    "plt.show()"
   ]
  },
  {
   "cell_type": "code",
   "execution_count": null,
   "id": "65edd956",
   "metadata": {},
   "outputs": [],
   "source": []
  },
  {
   "cell_type": "markdown",
   "id": "91c39984",
   "metadata": {},
   "source": [
    "## HDFC Flexi Cap Fund - Growth Option - Direct Plan (Monthly Testing)"
   ]
  },
  {
   "cell_type": "code",
   "execution_count": 1,
   "id": "28891ce4",
   "metadata": {},
   "outputs": [],
   "source": [
    "import numpy as np\n",
    "import pandas as pd\n",
    "import matplotlib.pyplot as plt\n",
    "import seaborn as sns"
   ]
  },
  {
   "cell_type": "code",
   "execution_count": 2,
   "id": "907f015d",
   "metadata": {},
   "outputs": [
    {
     "data": {
      "text/html": [
       "<div>\n",
       "<style scoped>\n",
       "    .dataframe tbody tr th:only-of-type {\n",
       "        vertical-align: middle;\n",
       "    }\n",
       "\n",
       "    .dataframe tbody tr th {\n",
       "        vertical-align: top;\n",
       "    }\n",
       "\n",
       "    .dataframe thead th {\n",
       "        text-align: right;\n",
       "    }\n",
       "</style>\n",
       "<table border=\"1\" class=\"dataframe\">\n",
       "  <thead>\n",
       "    <tr style=\"text-align: right;\">\n",
       "      <th></th>\n",
       "      <th>Net Asset Value</th>\n",
       "      <th>NAV date</th>\n",
       "    </tr>\n",
       "  </thead>\n",
       "  <tbody>\n",
       "    <tr>\n",
       "      <th>0</th>\n",
       "      <td>660.739</td>\n",
       "      <td>2018-08-01</td>\n",
       "    </tr>\n",
       "    <tr>\n",
       "      <th>1</th>\n",
       "      <td>657.467</td>\n",
       "      <td>2018-08-02</td>\n",
       "    </tr>\n",
       "    <tr>\n",
       "      <th>2</th>\n",
       "      <td>666.177</td>\n",
       "      <td>2018-08-03</td>\n",
       "    </tr>\n",
       "    <tr>\n",
       "      <th>3</th>\n",
       "      <td>670.898</td>\n",
       "      <td>2018-08-06</td>\n",
       "    </tr>\n",
       "    <tr>\n",
       "      <th>4</th>\n",
       "      <td>667.481</td>\n",
       "      <td>2018-08-07</td>\n",
       "    </tr>\n",
       "    <tr>\n",
       "      <th>...</th>\n",
       "      <td>...</td>\n",
       "      <td>...</td>\n",
       "    </tr>\n",
       "    <tr>\n",
       "      <th>338</th>\n",
       "      <td>705.575</td>\n",
       "      <td>2019-12-24</td>\n",
       "    </tr>\n",
       "    <tr>\n",
       "      <th>339</th>\n",
       "      <td>701.140</td>\n",
       "      <td>2019-12-26</td>\n",
       "    </tr>\n",
       "    <tr>\n",
       "      <th>340</th>\n",
       "      <td>712.162</td>\n",
       "      <td>2019-12-27</td>\n",
       "    </tr>\n",
       "    <tr>\n",
       "      <th>341</th>\n",
       "      <td>711.122</td>\n",
       "      <td>2019-12-30</td>\n",
       "    </tr>\n",
       "    <tr>\n",
       "      <th>342</th>\n",
       "      <td>709.896</td>\n",
       "      <td>2019-12-31</td>\n",
       "    </tr>\n",
       "  </tbody>\n",
       "</table>\n",
       "<p>343 rows × 2 columns</p>\n",
       "</div>"
      ],
      "text/plain": [
       "     Net Asset Value   NAV date\n",
       "0            660.739 2018-08-01\n",
       "1            657.467 2018-08-02\n",
       "2            666.177 2018-08-03\n",
       "3            670.898 2018-08-06\n",
       "4            667.481 2018-08-07\n",
       "..               ...        ...\n",
       "338          705.575 2019-12-24\n",
       "339          701.140 2019-12-26\n",
       "340          712.162 2019-12-27\n",
       "341          711.122 2019-12-30\n",
       "342          709.896 2019-12-31\n",
       "\n",
       "[343 rows x 2 columns]"
      ]
     },
     "execution_count": 2,
     "metadata": {},
     "output_type": "execute_result"
    }
   ],
   "source": [
    "df = pd.read_excel(\"HDFC Flexi Cap Fund - Growth Option - Direct Plan (Day Testing).xlsx\")\n",
    "\n",
    "df"
   ]
  },
  {
   "cell_type": "code",
   "execution_count": 3,
   "id": "e57d6d88",
   "metadata": {},
   "outputs": [
    {
     "data": {
      "text/html": [
       "<div>\n",
       "<style scoped>\n",
       "    .dataframe tbody tr th:only-of-type {\n",
       "        vertical-align: middle;\n",
       "    }\n",
       "\n",
       "    .dataframe tbody tr th {\n",
       "        vertical-align: top;\n",
       "    }\n",
       "\n",
       "    .dataframe thead th {\n",
       "        text-align: right;\n",
       "    }\n",
       "</style>\n",
       "<table border=\"1\" class=\"dataframe\">\n",
       "  <thead>\n",
       "    <tr style=\"text-align: right;\">\n",
       "      <th></th>\n",
       "      <th>Net Asset Value</th>\n",
       "      <th>NAV date</th>\n",
       "    </tr>\n",
       "  </thead>\n",
       "  <tbody>\n",
       "    <tr>\n",
       "      <th>0</th>\n",
       "      <td>696.941</td>\n",
       "      <td>2018-08-31</td>\n",
       "    </tr>\n",
       "    <tr>\n",
       "      <th>1</th>\n",
       "      <td>642.261</td>\n",
       "      <td>2018-09-28</td>\n",
       "    </tr>\n",
       "    <tr>\n",
       "      <th>2</th>\n",
       "      <td>640.620</td>\n",
       "      <td>2018-10-31</td>\n",
       "    </tr>\n",
       "    <tr>\n",
       "      <th>3</th>\n",
       "      <td>646.704</td>\n",
       "      <td>2018-11-30</td>\n",
       "    </tr>\n",
       "    <tr>\n",
       "      <th>4</th>\n",
       "      <td>660.779</td>\n",
       "      <td>2018-12-31</td>\n",
       "    </tr>\n",
       "    <tr>\n",
       "      <th>5</th>\n",
       "      <td>661.059</td>\n",
       "      <td>2019-01-31</td>\n",
       "    </tr>\n",
       "    <tr>\n",
       "      <th>6</th>\n",
       "      <td>647.101</td>\n",
       "      <td>2019-02-28</td>\n",
       "    </tr>\n",
       "    <tr>\n",
       "      <th>7</th>\n",
       "      <td>716.073</td>\n",
       "      <td>2019-03-29</td>\n",
       "    </tr>\n",
       "    <tr>\n",
       "      <th>8</th>\n",
       "      <td>709.020</td>\n",
       "      <td>2019-04-30</td>\n",
       "    </tr>\n",
       "    <tr>\n",
       "      <th>9</th>\n",
       "      <td>732.811</td>\n",
       "      <td>2019-05-31</td>\n",
       "    </tr>\n",
       "    <tr>\n",
       "      <th>10</th>\n",
       "      <td>736.762</td>\n",
       "      <td>2019-06-28</td>\n",
       "    </tr>\n",
       "    <tr>\n",
       "      <th>11</th>\n",
       "      <td>680.768</td>\n",
       "      <td>2019-07-31</td>\n",
       "    </tr>\n",
       "    <tr>\n",
       "      <th>12</th>\n",
       "      <td>655.456</td>\n",
       "      <td>2019-08-30</td>\n",
       "    </tr>\n",
       "    <tr>\n",
       "      <th>13</th>\n",
       "      <td>677.389</td>\n",
       "      <td>2019-09-30</td>\n",
       "    </tr>\n",
       "    <tr>\n",
       "      <th>14</th>\n",
       "      <td>702.879</td>\n",
       "      <td>2019-10-31</td>\n",
       "    </tr>\n",
       "    <tr>\n",
       "      <th>15</th>\n",
       "      <td>709.686</td>\n",
       "      <td>2019-11-29</td>\n",
       "    </tr>\n",
       "    <tr>\n",
       "      <th>16</th>\n",
       "      <td>709.896</td>\n",
       "      <td>2019-12-31</td>\n",
       "    </tr>\n",
       "  </tbody>\n",
       "</table>\n",
       "</div>"
      ],
      "text/plain": [
       "    Net Asset Value   NAV date\n",
       "0           696.941 2018-08-31\n",
       "1           642.261 2018-09-28\n",
       "2           640.620 2018-10-31\n",
       "3           646.704 2018-11-30\n",
       "4           660.779 2018-12-31\n",
       "5           661.059 2019-01-31\n",
       "6           647.101 2019-02-28\n",
       "7           716.073 2019-03-29\n",
       "8           709.020 2019-04-30\n",
       "9           732.811 2019-05-31\n",
       "10          736.762 2019-06-28\n",
       "11          680.768 2019-07-31\n",
       "12          655.456 2019-08-30\n",
       "13          677.389 2019-09-30\n",
       "14          702.879 2019-10-31\n",
       "15          709.686 2019-11-29\n",
       "16          709.896 2019-12-31"
      ]
     },
     "execution_count": 3,
     "metadata": {},
     "output_type": "execute_result"
    }
   ],
   "source": [
    "# Convert the date column to datetime format\n",
    "df['NAV date'] = pd.to_datetime(df['NAV date'])\n",
    "\n",
    "# Group by the year and month of the date column and keep only the last row of each group\n",
    "df = df.groupby([df['NAV date'].dt.year, df['NAV date'].dt.month]).tail(1)\n",
    "\n",
    "# Reset the index\n",
    "df = df.reset_index(drop=True)\n",
    "\n",
    "df"
   ]
  },
  {
   "cell_type": "code",
   "execution_count": 4,
   "id": "316f940d",
   "metadata": {},
   "outputs": [
    {
     "name": "stdout",
     "output_type": "stream",
     "text": [
      "Number of Months: 17\n"
     ]
    }
   ],
   "source": [
    "# Create a series of dates from start date to end date\n",
    "dates = pd.date_range(start='2018-08-01', end='2019-12-31', freq='D')\n",
    "\n",
    "# Convert the dates to monthly periods\n",
    "months = dates.to_period('M')\n",
    "\n",
    "# Count the number of unique months in the series\n",
    "number_of_months = months.nunique()\n",
    "\n",
    "# Print the number of months\n",
    "print(\"Number of Months:\", number_of_months)"
   ]
  },
  {
   "cell_type": "code",
   "execution_count": 5,
   "id": "41ed6168",
   "metadata": {},
   "outputs": [],
   "source": [
    "df = df.set_index(\"NAV date\")\n",
    "\n",
    "df[\"Units\"] = 20522.39/df['Net Asset Value']"
   ]
  },
  {
   "cell_type": "code",
   "execution_count": 6,
   "id": "6f2b681b",
   "metadata": {},
   "outputs": [
    {
     "name": "stdout",
     "output_type": "stream",
     "text": [
      "Total Units till Date: 511.2264598212791\n",
      "Invested amount: 348880.63\n",
      "Total amount in your account as of today: 362917.6189212867\n",
      "Profit Earned on Investment: 14036.988921286713\n",
      "Profit Percentage: 4.023436016292081\n",
      "Profit Percentage per month: 2.8400724820885275\n"
     ]
    }
   ],
   "source": [
    "total_units = df['Units'].sum()\n",
    "print(\"Total Units till Date:\",total_units)\n",
    "\n",
    "Invested = len(df)*20522.39\n",
    "print(\"Invested amount:\",Invested)\n",
    "\n",
    "total_amount = total_units*df.iloc[-1,0]\n",
    "print(\"Total amount in your account as of today:\",total_amount)\n",
    "\n",
    "profit = total_amount-Invested\n",
    "print(\"Profit Earned on Investment:\",profit)\n",
    "\n",
    "profit_percentage = (profit/Invested)*100\n",
    "print(\"Profit Percentage:\",profit_percentage)\n",
    "\n",
    "profit_percentage_per_month = (profit_percentage/17)*12\n",
    "print(\"Profit Percentage per month:\",profit_percentage_per_month)"
   ]
  },
  {
   "cell_type": "markdown",
   "id": "765e758e",
   "metadata": {},
   "source": [
    "# Visualize the Time Series\n",
    "### Check for trend, seasonality or random patterns"
   ]
  },
  {
   "cell_type": "code",
   "execution_count": 7,
   "id": "0158861f",
   "metadata": {
    "scrolled": true
   },
   "outputs": [
    {
     "data": {
      "image/png": "[encoded data removed]",
      "text/plain": [
       "<Figure size 640x480 with 1 Axes>"
      ]
     },
     "metadata": {},
     "output_type": "display_data"
    }
   ],
   "source": [
    "sns.lineplot(x=df.index,y=df[\"Net Asset Value\"])\n",
    "plt.show()"
   ]
  },
  {
   "cell_type": "code",
   "execution_count": null,
   "id": "912d81ea",
   "metadata": {},
   "outputs": [],
   "source": []
  }
 ],
 "metadata": {
  "kernelspec": {
   "display_name": "Python 3 (ipykernel)",
   "language": "python",
   "name": "python3"
  },
  "language_info": {
   "codemirror_mode": {
    "name": "ipython",
    "version": 3
   },
   "file_extension": ".py",
   "mimetype": "text/x-python",
   "name": "python",
   "nbconvert_exporter": "python",
   "pygments_lexer": "ipython3",
   "version": "3.11.4"
  }
 },
 "nbformat": 4,
 "nbformat_minor": 5
}
